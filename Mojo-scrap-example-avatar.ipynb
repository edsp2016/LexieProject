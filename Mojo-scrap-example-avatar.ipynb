{
 "cells": [
  {
   "cell_type": "markdown",
   "metadata": {},
   "source": [
    "***Use beautiful soup to scrap data***"
   ]
  },
  {
   "cell_type": "code",
   "execution_count": 1,
   "metadata": {
    "collapsed": false
   },
   "outputs": [],
   "source": [
    "import urllib.request as ul #url.request lib for handling the url\n",
    "from bs4 import BeautifulSoup #bs for parsing the page\n",
    "url = \"http://www.boxofficemojo.com/alltime/world/\"\n",
    "url_response=ul.urlopen(url,timeout=5)\n",
    "soup = BeautifulSoup(url_response)"
   ]
  },
  {
   "cell_type": "markdown",
   "metadata": {},
   "source": [
    "***Find all movie main pages and constructed a list***"
   ]
  },
  {
   "cell_type": "code",
   "execution_count": 2,
   "metadata": {
    "collapsed": false
   },
   "outputs": [],
   "source": [
    "def findlinks(soup):\n",
    "    movie_links=[]\n",
    "    for link in soup: #pick each link in turn\n",
    "        h_link=link.get('href') #Get the href property of the link\n",
    "        if h_link and 'movies' in h_link:#See if the word 'articles' is in the link\n",
    "            g_link=h_link[:9]+'page=main&'+h_link[9:]\n",
    "            movie_links.append(g_link) \n",
    "    return(movie_links[2:-1])"
   ]
  },
  {
   "cell_type": "code",
   "execution_count": 3,
   "metadata": {
    "collapsed": true
   },
   "outputs": [],
   "source": [
    "total_link=[findlinks(soup.find_all('a'))]"
   ]
  },
  {
   "cell_type": "code",
   "execution_count": 4,
   "metadata": {
    "collapsed": false
   },
   "outputs": [],
   "source": [
    "for i in range(2,8):\n",
    "    url_page = \"http://www.boxofficemojo.com/alltime/world/?pagenum=\"+str(i)+\"&p=.htm\"\n",
    "    soup_page = BeautifulSoup(ul.urlopen(url_page,timeout=5))\n",
    "    total_link.append(findlinks(soup_page.find_all('a')))\n",
    "#total_link   "
   ]
  },
  {
   "cell_type": "code",
   "execution_count": 6,
   "metadata": {
    "collapsed": false
   },
   "outputs": [],
   "source": [
    "#create a all in one list\n",
    "all_list=[]\n",
    "for link_list in total_link:\n",
    "    for link in link_list:\n",
    "        link='http://www.boxofficemojo.com'+link\n",
    "        all_list.append(link)\n",
    "#all_list      "
   ]
  },
  {
   "cell_type": "markdown",
   "metadata": {},
   "source": [
    "*** Define a function to get dara from tables***"
   ]
  },
  {
   "cell_type": "code",
   "execution_count": 7,
   "metadata": {
    "collapsed": true
   },
   "outputs": [],
   "source": [
    "def parse_table(table):\n",
    "    \"\"\" Get data from table \"\"\"\n",
    "    return [\n",
    "        [cell.get_text().strip() for cell in row.find_all(['th', 'td'])]\n",
    "           for row in table.find_all('tr')\n",
    "    ]"
   ]
  },
  {
   "cell_type": "markdown",
   "metadata": {},
   "source": [
    "***extract movie information from each link***"
   ]
  },
  {
   "cell_type": "code",
   "execution_count": 8,
   "metadata": {
    "collapsed": false
   },
   "outputs": [],
   "source": [
    "#trial\n",
    "#Open the link\n",
    "avatar_url='http://www.boxofficemojo.com/movies/?page=main&id=avatar.htm'\n",
    "avatar_page = BeautifulSoup(ul.urlopen(avatar_url))\n",
    "\n"
   ]
  },
  {
   "cell_type": "markdown",
   "metadata": {},
   "source": [
    "<table cellspacing=\"0\" cellpadding=\"0\" border=\"0\" width=\"100%\">\n",
    "\t<tr>\t<td valign=\"top\">\n",
    "\t\t<table border=\"0\" cellpadding=\"0\" cellspacing=\"0\" width=\"100%\" style=\"padding-top: 5px;\"><tr><td valign=\"top\" align=\"center\">\n",
    "\t\t<a href=\"/movies/?page=media&id=avatar.htm\"><img src=\"http://ia.media-imdb.com/images/M/MV5BMTYwOTEwNjAzMl5BMl5BanBnXkFtZTcwODc5MTUwMw@@._V1_UY222_CR0,0,150,222_AL.jpg\" border=\"1\" style=\"border-color: 000000\"></a>\t</td>\n",
    "\t<td valign=\"top\" align=\"center\"><br><font face=\"Verdana\" size=\"6\"><b>Avatar</b></font><br><br>\n",
    "\t<table border=\"0\" cellspacing=\"0\" cellpadding=\"0\"><tr><td>\n",
    "\t<center><table border=\"0\" border=\"0\" cellspacing=\"1\" cellpadding=\"4\" bgcolor=\"#dcdcdc\" width=\"95%\"><tr bgcolor=\"#ffffff\"><td align=\"center\" colspan=\"2\"><font size=\"4\">Domestic Total Gross: <b>$749,766,139</b></font><br><font size=\"2\"><a href=\"?page=releases&id=avatar.htm\">Domestic Lifetime Gross: $760,507,625</b></a></font></td></tr><tr bgcolor=\"#ffffff\"><td valign=\"top\">Distributor: <b><a href=\"/studio/chart/?studio=fox.htm\">Fox</a></b></td><td valign=\"top\">Release Date: <b><nobr><a href=\"/schedule/?view=bydate&release=theatrical&date=2009-12-18&p=.htm\">December 18, 2009</a></nobr></b></td></tr><tr bgcolor=\"#ffffff\"><td valign=\"top\">Genre: <b>Sci-Fi Adventure</b></td><td valign=\"top\">Runtime: <b>2 hrs. 40 min.</b></td></tr><tr bgcolor=\"#ffffff\"><td valign=\"top\">MPAA Rating: <b>PG-13</b></td><td valign=\"top\">Production Budget: <b>N/A</b></td></tr></table>\t</td>\n",
    "\t</tr></table></td>"
   ]
  },
  {
   "cell_type": "markdown",
   "metadata": {},
   "source": [
    "***Find all tables and extract data from tables***"
   ]
  },
  {
   "cell_type": "code",
   "execution_count": 9,
   "metadata": {
    "collapsed": false
   },
   "outputs": [],
   "source": [
    "avatar_table = avatar_page.find_all('table')"
   ]
  },
  {
   "cell_type": "code",
   "execution_count": 10,
   "metadata": {
    "collapsed": false
   },
   "outputs": [
    {
     "data": {
      "text/plain": [
       "[['Domestic Total Gross: $749,766,139Domestic Lifetime Gross: $760,507,625'],\n",
       " ['Distributor: Fox', 'Release Date: December 18, 2009'],\n",
       " ['Genre: Sci-Fi Adventure', 'Runtime: 2 hrs. 40 min.'],\n",
       " ['MPAA Rating: PG-13', 'Production Budget: N/A']]"
      ]
     },
     "execution_count": 10,
     "metadata": {},
     "output_type": "execute_result"
    }
   ],
   "source": [
    "parse_table(avatar_table[5])"
   ]
  },
  {
   "cell_type": "code",
   "execution_count": 60,
   "metadata": {
    "collapsed": false
   },
   "outputs": [
    {
     "data": {
      "text/plain": [
       "[['Total Lifetime Grosses\\n\\n\\n\\nDomestic:\\n\\xa0$760,507,625\\n\\xa0\\xa0\\xa027.3%\\n\\n\\n+\\xa0Foreign:\\n\\xa0$2,027,457,462\\n\\xa0\\xa0\\xa072.7%\\n\\n\\n\\n\\n\\n=\\xa0Worldwide:\\n\\xa0$2,787,965,087\\n\\xa0\\n\\n\\n\\n\\n\\nDomestic Summary\\n\\n\\n\\nOpening\\xa0Weekend:\\xa0$77,025,481\\n\\n(#1 rank, 3,452 theaters, $22,313 average)\\n\\n%\\xa0of\\xa0Total\\xa0Gross:\\xa010.3%\\n> View All 34 Weekends\\n\\n\\n\\nWidest\\xa0Release:\\n\\xa03,461 theaters\\n\\n\\n\\n\\nClose\\xa0Date:\\n\\xa0August 12, 2010\\n\\n\\n\\n\\nIn Release:\\n\\xa0238 days / 34 weeks',\n",
       "  'Domestic:',\n",
       "  '$760,507,625',\n",
       "  '27.3%',\n",
       "  '+\\xa0Foreign:',\n",
       "  '$2,027,457,462',\n",
       "  '72.7%',\n",
       "  '',\n",
       "  '=\\xa0Worldwide:',\n",
       "  '$2,787,965,087',\n",
       "  '',\n",
       "  'Opening\\xa0Weekend:',\n",
       "  '$77,025,481',\n",
       "  '(#1 rank, 3,452 theaters, $22,313 average)',\n",
       "  '%\\xa0of\\xa0Total\\xa0Gross:',\n",
       "  '10.3%',\n",
       "  '> View All 34 Weekends',\n",
       "  'Widest\\xa0Release:',\n",
       "  '3,461 theaters',\n",
       "  'Close\\xa0Date:',\n",
       "  'August 12, 2010',\n",
       "  'In Release:',\n",
       "  '238 days / 34 weeks',\n",
       "  'The Players\\n\\n\\nDirector:James CameronWriter:James CameronActors:Sam WorthingtonZoe SaldanaSigourney WeaverMichelle RodriguezGiovanni RibisiJoel David MooreProducers:James CameronLaeta Kalogridis (executive)Jon LandauColin Wilson (executive)Composer:James Horner',\n",
       "  'Director:',\n",
       "  'James Cameron',\n",
       "  'Writer:',\n",
       "  'James Cameron',\n",
       "  'Actors:',\n",
       "  'Sam WorthingtonZoe SaldanaSigourney WeaverMichelle RodriguezGiovanni RibisiJoel David Moore',\n",
       "  'Producers:',\n",
       "  'James CameronLaeta Kalogridis (executive)Jon LandauColin Wilson (executive)',\n",
       "  'Composer:',\n",
       "  'James Horner'],\n",
       " ['Domestic:', '$760,507,625', '27.3%'],\n",
       " ['+\\xa0Foreign:', '$2,027,457,462', '72.7%'],\n",
       " [''],\n",
       " ['=\\xa0Worldwide:', '$2,787,965,087', ''],\n",
       " ['Opening\\xa0Weekend:', '$77,025,481'],\n",
       " ['(#1 rank, 3,452 theaters, $22,313 average)'],\n",
       " ['%\\xa0of\\xa0Total\\xa0Gross:', '10.3%'],\n",
       " ['> View All 34 Weekends'],\n",
       " ['Widest\\xa0Release:', '3,461 theaters'],\n",
       " ['Close\\xa0Date:', 'August 12, 2010'],\n",
       " ['In Release:', '238 days / 34 weeks'],\n",
       " ['Director:', 'James Cameron'],\n",
       " ['Writer:', 'James Cameron'],\n",
       " ['Actors:',\n",
       "  'Sam WorthingtonZoe SaldanaSigourney WeaverMichelle RodriguezGiovanni RibisiJoel David Moore'],\n",
       " ['Producers:',\n",
       "  'James CameronLaeta Kalogridis (executive)Jon LandauColin Wilson (executive)'],\n",
       " ['Composer:', 'James Horner']]"
      ]
     },
     "execution_count": 60,
     "metadata": {},
     "output_type": "execute_result"
    }
   ],
   "source": [
    "parse_table(avatar_table[8])"
   ]
  }
 ],
 "metadata": {
  "kernelspec": {
   "display_name": "Python 3",
   "language": "python",
   "name": "python3"
  },
  "language_info": {
   "codemirror_mode": {
    "name": "ipython",
    "version": 3
   },
   "file_extension": ".py",
   "mimetype": "text/x-python",
   "name": "python",
   "nbconvert_exporter": "python",
   "pygments_lexer": "ipython3",
   "version": "3.4.3"
  }
 },
 "nbformat": 4,
 "nbformat_minor": 0
}
