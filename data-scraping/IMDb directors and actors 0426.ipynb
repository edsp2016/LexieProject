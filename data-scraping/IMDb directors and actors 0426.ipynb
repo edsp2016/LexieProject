{
 "cells": [
  {
   "cell_type": "code",
   "execution_count": 1,
   "metadata": {
    "collapsed": true
   },
   "outputs": [],
   "source": [
    "import urllib.request as ul\n",
    "import bs4\n",
    "import sys\n",
    "import time\n",
    "import json\n",
    "from bs4 import BeautifulSoup"
   ]
  },
  {
   "cell_type": "code",
   "execution_count": 2,
   "metadata": {
    "collapsed": false
   },
   "outputs": [
    {
     "data": {
      "text/html": [
       "<div>\n",
       "<table border=\"1\" class=\"dataframe\">\n",
       "  <thead>\n",
       "    <tr style=\"text-align: right;\">\n",
       "      <th></th>\n",
       "      <th>Number</th>\n",
       "      <th>Rank</th>\n",
       "      <th>Title</th>\n",
       "      <th>Studio</th>\n",
       "      <th>Worldwide</th>\n",
       "      <th>Domestic</th>\n",
       "      <th>Dome_perc</th>\n",
       "      <th>Overseas</th>\n",
       "      <th>Over_perc</th>\n",
       "      <th>Year</th>\n",
       "      <th>Rating</th>\n",
       "      <th>Imdb_id</th>\n",
       "      <th>star1</th>\n",
       "      <th>star2</th>\n",
       "      <th>director1</th>\n",
       "      <th>director2</th>\n",
       "      <th>dir_id</th>\n",
       "      <th>star1_id</th>\n",
       "      <th>star2_id</th>\n",
       "    </tr>\n",
       "  </thead>\n",
       "  <tbody>\n",
       "    <tr>\n",
       "      <th>0</th>\n",
       "      <td>1</td>\n",
       "      <td>1</td>\n",
       "      <td>Avatar</td>\n",
       "      <td>Fox</td>\n",
       "      <td>2788.0</td>\n",
       "      <td>760.5</td>\n",
       "      <td>0.273</td>\n",
       "      <td>2027.5</td>\n",
       "      <td>0.727</td>\n",
       "      <td>2009^</td>\n",
       "      <td>7.9</td>\n",
       "      <td>tt0499549</td>\n",
       "      <td>Sam Worthington</td>\n",
       "      <td>Zoe Saldana</td>\n",
       "      <td>James Cameron</td>\n",
       "      <td>NaN</td>\n",
       "      <td>nm0000116</td>\n",
       "      <td>nm0941777</td>\n",
       "      <td>nm0757855</td>\n",
       "    </tr>\n",
       "    <tr>\n",
       "      <th>1</th>\n",
       "      <td>2</td>\n",
       "      <td>2</td>\n",
       "      <td>Titanic</td>\n",
       "      <td>Par.</td>\n",
       "      <td>2186.8</td>\n",
       "      <td>658.7</td>\n",
       "      <td>0.301</td>\n",
       "      <td>1528.1</td>\n",
       "      <td>0.699</td>\n",
       "      <td>1997^</td>\n",
       "      <td>7.7</td>\n",
       "      <td>tt0120338</td>\n",
       "      <td>Leonardo DiCaprio</td>\n",
       "      <td>Kate Winslet</td>\n",
       "      <td>James Cameron</td>\n",
       "      <td>NaN</td>\n",
       "      <td>nm0000116</td>\n",
       "      <td>nm0000138</td>\n",
       "      <td>nm0000701</td>\n",
       "    </tr>\n",
       "    <tr>\n",
       "      <th>2</th>\n",
       "      <td>3</td>\n",
       "      <td>3</td>\n",
       "      <td>Star Wars: The Force Awakens</td>\n",
       "      <td>BV</td>\n",
       "      <td>2042.5</td>\n",
       "      <td>923.7</td>\n",
       "      <td>0.452</td>\n",
       "      <td>1118.8</td>\n",
       "      <td>0.548</td>\n",
       "      <td>2015</td>\n",
       "      <td>8.4</td>\n",
       "      <td>tt2488496</td>\n",
       "      <td>Harrison Ford</td>\n",
       "      <td>Mark Hamill</td>\n",
       "      <td>J.J. Abrams</td>\n",
       "      <td>NaN</td>\n",
       "      <td>nm0009190</td>\n",
       "      <td>nm0000148</td>\n",
       "      <td>nm0000434</td>\n",
       "    </tr>\n",
       "    <tr>\n",
       "      <th>3</th>\n",
       "      <td>4</td>\n",
       "      <td>4</td>\n",
       "      <td>Jurassic World</td>\n",
       "      <td>Uni.</td>\n",
       "      <td>1670.4</td>\n",
       "      <td>652.3</td>\n",
       "      <td>0.390</td>\n",
       "      <td>1018.1</td>\n",
       "      <td>0.610</td>\n",
       "      <td>2015</td>\n",
       "      <td>7.1</td>\n",
       "      <td>tt0369610</td>\n",
       "      <td>Chris Pratt</td>\n",
       "      <td>Bryce Dallas Howard</td>\n",
       "      <td>Colin Trevorrow</td>\n",
       "      <td>NaN</td>\n",
       "      <td>nm1119880</td>\n",
       "      <td>nm0695435</td>\n",
       "      <td>nm0397171</td>\n",
       "    </tr>\n",
       "    <tr>\n",
       "      <th>4</th>\n",
       "      <td>5</td>\n",
       "      <td>5</td>\n",
       "      <td>Marvel's The Avengers</td>\n",
       "      <td>BV</td>\n",
       "      <td>1519.6</td>\n",
       "      <td>623.4</td>\n",
       "      <td>0.410</td>\n",
       "      <td>896.2</td>\n",
       "      <td>0.590</td>\n",
       "      <td>2012</td>\n",
       "      <td>8.1</td>\n",
       "      <td>tt0848228</td>\n",
       "      <td>Robert Downey Jr.</td>\n",
       "      <td>Chris Evans</td>\n",
       "      <td>Joss Whedon</td>\n",
       "      <td>NaN</td>\n",
       "      <td>nm0923736</td>\n",
       "      <td>nm0000375</td>\n",
       "      <td>nm0262635</td>\n",
       "    </tr>\n",
       "  </tbody>\n",
       "</table>\n",
       "</div>"
      ],
      "text/plain": [
       "   Number  Rank                         Title Studio  Worldwide Domestic   \\\n",
       "0       1     1                        Avatar    Fox     2788.0     760.5   \n",
       "1       2     2                       Titanic   Par.     2186.8     658.7   \n",
       "2       3     3  Star Wars: The Force Awakens     BV     2042.5     923.7   \n",
       "3       4     4                Jurassic World   Uni.     1670.4     652.3   \n",
       "4       5     5         Marvel's The Avengers     BV     1519.6     623.4   \n",
       "\n",
       "   Dome_perc  Overseas   Over_perc   Year  Rating    Imdb_id  \\\n",
       "0      0.273     2027.5      0.727  2009^     7.9  tt0499549   \n",
       "1      0.301     1528.1      0.699  1997^     7.7  tt0120338   \n",
       "2      0.452     1118.8      0.548   2015     8.4  tt2488496   \n",
       "3      0.390     1018.1      0.610   2015     7.1  tt0369610   \n",
       "4      0.410      896.2      0.590   2012     8.1  tt0848228   \n",
       "\n",
       "               star1                star2        director1 director2  \\\n",
       "0    Sam Worthington          Zoe Saldana    James Cameron       NaN   \n",
       "1  Leonardo DiCaprio         Kate Winslet    James Cameron       NaN   \n",
       "2      Harrison Ford          Mark Hamill      J.J. Abrams       NaN   \n",
       "3        Chris Pratt  Bryce Dallas Howard  Colin Trevorrow       NaN   \n",
       "4  Robert Downey Jr.          Chris Evans      Joss Whedon       NaN   \n",
       "\n",
       "      dir_id   star1_id   star2_id  \n",
       "0  nm0000116  nm0941777  nm0757855  \n",
       "1  nm0000116  nm0000138  nm0000701  \n",
       "2  nm0009190  nm0000148  nm0000434  \n",
       "3  nm1119880  nm0695435  nm0397171  \n",
       "4  nm0923736  nm0000375  nm0262635  "
      ]
     },
     "execution_count": 2,
     "metadata": {},
     "output_type": "execute_result"
    }
   ],
   "source": [
    "import pandas as pd\n",
    "Location=r'IMDb0425.xlsx'\n",
    "df = pd.read_excel(Location)\n",
    "df.head()"
   ]
  },
  {
   "cell_type": "code",
   "execution_count": 3,
   "metadata": {
    "collapsed": true
   },
   "outputs": [],
   "source": [
    "dir_won=[]\n",
    "dir_nomi=[]\n",
    "for i in range(len(df)):\n",
    "    url=\"http://www.imdb.com/name/\"+df.dir_id[i]+\"/awards?ref_=nm_ql_2\"\n",
    "    soup=BeautifulSoup(ul.urlopen(url))\n",
    "    try:\n",
    "        result=soup.find(\"div\", {\"class\": \"desc\"}).text\n",
    "        s=[int(s) for s in result.split() if s.isdigit()]\n",
    "        dir_won.append(s[0])\n",
    "        dir_nomi.append(s[1])        \n",
    "    except AttributeError:\n",
    "        dir_won.append(\" \")\n",
    "        dir_nomi.append(\" \")"
   ]
  },
  {
   "cell_type": "code",
   "execution_count": 4,
   "metadata": {
    "collapsed": true
   },
   "outputs": [],
   "source": [
    "df['dir_win']=dir_won\n",
    "df['dir_nomi']=dir_nomi"
   ]
  },
  {
   "cell_type": "code",
   "execution_count": 10,
   "metadata": {
    "collapsed": false
   },
   "outputs": [
    {
     "name": "stdout",
     "output_type": "stream",
     "text": [
      "Done\n"
     ]
    }
   ],
   "source": [
    "df.to_excel('IMDb0430.xlsx', index=False)\n",
    "print('Done')"
   ]
  },
  {
   "cell_type": "code",
   "execution_count": null,
   "metadata": {
    "collapsed": true
   },
   "outputs": [],
   "source": [
    "df.to_excel('IMDb0426.xlsx', index=False)\n",
    "print('Done')"
   ]
  }
 ],
 "metadata": {
  "kernelspec": {
   "display_name": "Python 3",
   "language": "python",
   "name": "python3"
  },
  "language_info": {
   "codemirror_mode": {
    "name": "ipython",
    "version": 3
   },
   "file_extension": ".py",
   "mimetype": "text/x-python",
   "name": "python",
   "nbconvert_exporter": "python",
   "pygments_lexer": "ipython3",
   "version": "3.4.4"
  }
 },
 "nbformat": 4,
 "nbformat_minor": 0
}
